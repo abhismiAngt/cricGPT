{
 "cells": [
  {
   "cell_type": "code",
   "execution_count": 7,
   "id": "7f0b076a",
   "metadata": {},
   "outputs": [
    {
     "name": "stdout",
     "output_type": "stream",
     "text": [
      "Results saved to try4_results.csv\n"
     ]
    }
   ],
   "source": [
    "import pandas as pd\n",
    "import pymysql\n",
    "import os\n",
    "import time\n",
    "import logging\n",
    "import traceback\n",
    "from datetime import datetime\n",
    "from dotenv import load_dotenv\n",
    "\n",
    "load_dotenv()\n",
    "\n",
    "def connect_db():\n",
    "    return pymysql.connect(\n",
    "        host=\"localhost\",\n",
    "        user=\"root\",\n",
    "        password=os.getenv(\"MYSQL_PASSWORD\"),\n",
    "        database=\"cricstats\"\n",
    "    )\n",
    "\n",
    "def execute_query(query):\n",
    "    try:\n",
    "        connection = connect_db()\n",
    "        cursor = connection.cursor()\n",
    "        cursor.execute(query)\n",
    "        result = cursor.fetchall()\n",
    "        # Convert tuples to string for storage in CSV\n",
    "        result_str = str(result)\n",
    "        connection.commit()\n",
    "        return result_str\n",
    "    except Exception as e:\n",
    "        logging.error(f\"Error executing query: {query}\")\n",
    "        logging.error(e)\n",
    "        return \"Error executing query\"\n",
    "    finally:\n",
    "        if 'cursor' in locals(): cursor.close()\n",
    "        if 'connection' in locals(): connection.close()\n",
    "\n",
    "def process_sql_file(file_path):\n",
    "    try:\n",
    "        df = pd.read_csv(file_path)\n",
    "        if 'sql_label' not in df.columns:\n",
    "            raise ValueError(\"The file does not contain 'sql_label' column.\")\n",
    "\n",
    "        results = []\n",
    "        for index, row in df.iterrows():\n",
    "            sql_query = row['sql_label']\n",
    "            result = execute_query(sql_query)\n",
    "            results.append(result)\n",
    "\n",
    "        df['results'] = results\n",
    "        output_file_path = os.path.splitext(file_path)[0] + '_results.csv'\n",
    "        df.to_csv(output_file_path, index=False)\n",
    "        print(f\"Results saved to {output_file_path}\")\n",
    "    except Exception as e:\n",
    "        logging.error(f\"Error processing file: {file_path}\")\n",
    "        logging.error(e)\n",
    "        logging.error(traceback.format_exc())\n",
    "        print(f\"Error processing file: {e}\")\n",
    "\n",
    "def run_script():\n",
    "    file_path = 'try4.csv'\n",
    "    if os.path.exists(file_path):\n",
    "        process_sql_file(file_path)\n",
    "    else:\n",
    "        logging.error(f\"File not found: {file_path}\")\n",
    "        print(f\"File not found: {file_path}\")\n",
    "\n",
    "if __name__ == \"__main__\":\n",
    "    logging.basicConfig(\n",
    "        filename='sql_execution.log',\n",
    "        level=logging.ERROR,\n",
    "        format='%(asctime)s:%(levelname)s:%(message)s'\n",
    "    )\n",
    "    run_script()\n"
   ]
  }
 ],
 "metadata": {
  "kernelspec": {
   "display_name": "base",
   "language": "python",
   "name": "python3"
  },
  "language_info": {
   "codemirror_mode": {
    "name": "ipython",
    "version": 3
   },
   "file_extension": ".py",
   "mimetype": "text/x-python",
   "name": "python",
   "nbconvert_exporter": "python",
   "pygments_lexer": "ipython3",
   "version": "3.10.9"
  }
 },
 "nbformat": 4,
 "nbformat_minor": 5
}
