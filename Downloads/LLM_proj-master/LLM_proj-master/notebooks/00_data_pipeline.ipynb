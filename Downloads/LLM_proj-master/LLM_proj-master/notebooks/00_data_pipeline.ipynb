{
 "cells": [
  {
   "cell_type": "code",
   "execution_count": 1,
   "id": "611ba438",
   "metadata": {},
   "outputs": [],
   "source": [
    "import pymysql\n",
    "from dotenv import load_dotenv\n",
    "import os\n",
    "import sys\n",
    "sys.path.append(os.path.abspath(\"../src\"))\n",
    "\n",
    "\n"
   ]
  },
  {
   "cell_type": "code",
   "execution_count": null,
   "id": "42b77e7c",
   "metadata": {},
   "outputs": [],
   "source": [
    "load_dotenv()\n",
    "conn = pymysql.connect(\n",
    "    host=\"localhost\",\n",
    "    user=\"root\",\n",
    "    password=os.getenv(\"MYSQL_PASSWORD\"),\n",
    "    database=\"cricstats\"\n",
    ")\n",
    "print(\"✅ Connected\")\n",
    "conn.close()"
   ]
  },
  {
   "cell_type": "code",
   "execution_count": null,
   "id": "2b9c2871",
   "metadata": {},
   "outputs": [
    {
     "name": "stderr",
     "output_type": "stream",
     "text": [
      "c:\\Users\\singh_7l8q9pm\\anaconda3\\lib\\site-packages\\pandas\\core\\arrays\\masked.py:60: UserWarning: Pandas requires version '1.3.6' or newer of 'bottleneck' (version '1.3.5' currently installed).\n",
      "  from pandas.core import (\n"
     ]
    },
    {
     "name": "stdout",
     "output_type": "stream",
     "text": [
      "✅ Loaded 636 rows into matches\n",
      "✅ Loaded 150460 rows into deliveries\n"
     ]
    }
   ],
   "source": [
    "\n",
    "\n",
    "from data.db_loader import load_matches_to_db, load_deliveries_to_db\n",
    "\n",
    "load_matches_to_db(\"../data/matches.csv\")\n",
    "load_deliveries_to_db(\"../data/deliveries.csv\")\n"
   ]
  },
  {
   "cell_type": "code",
   "execution_count": 3,
   "id": "022a7932",
   "metadata": {},
   "outputs": [
    {
     "name": "stdout",
     "output_type": "stream",
     "text": [
      "Columns: ['match_id', 'inning', 'batting_team', 'bowling_team', 'over', 'ball', 'batsman', 'non_striker', 'bowler', 'is_super_over', 'wide_runs', 'bye_runs', 'legbye_runs', 'noball_runs', 'penalty_runs', 'batsman_runs', 'extra_runs', 'total_runs', 'player_dismissed', 'dismissal_kind', 'fielder']\n",
      "Shape: (150460, 21)\n"
     ]
    }
   ],
   "source": [
    "import pandas as pd\n",
    "df = pd.read_csv(\"../data/deliveries.csv\")\n",
    "print(\"Columns:\", df.columns.tolist())\n",
    "print(\"Shape:\", df.shape)\n"
   ]
  },
  {
   "cell_type": "code",
   "execution_count": null,
   "id": "677527cf",
   "metadata": {},
   "outputs": [
    {
     "name": "stdout",
     "output_type": "stream",
     "text": [
      "\n",
      "\n",
      "\u001b[1m> Entering new SQL Agent Executor chain...\u001b[0m\n",
      "\u001b[32;1m\u001b[1;3m```sql\n",
      "SELECT\n",
      "    SUM(total_runs)\n",
      "FROM\n",
      "    deliveries\n",
      "INNER JOIN\n",
      "    matches\n",
      "ON\n",
      "    deliveries.match_id = matches.id\n",
      "WHERE\n",
      "    season = 2016 AND batsman = 'V Kohli'\n",
      "LIMIT 100;\n",
      "```\u001b[0m\n",
      "\n",
      "\u001b[1m> Finished chain.\u001b[0m\n",
      "SELECT SUM(total_runs) FROM deliveries INNER JOIN matches ON deliveries.match_id = matches.id WHERE season = 2016 AND batsman = 'V Kohli' LIMIT 100;\n"
     ]
    },
    {
     "name": "stderr",
     "output_type": "stream",
     "text": [
      "d:\\BITS Pilani\\Year 4\\Sem 4-2\\LLM\\Project\\cricket-stats-gpt\\src\\agents\\langchain_sql_agent.py:64: UserWarning: pandas only supports SQLAlchemy connectable (engine/connection) or database string URI or sqlite3 DBAPI2 connection. Other DBAPI2 objects are not tested. Please consider using SQLAlchemy.\n",
      "  df = pd.read_sql(sql_cleaned, connect_db())\n"
     ]
    },
    {
     "data": {
      "text/html": [
       "<div>\n",
       "<style scoped>\n",
       "    .dataframe tbody tr th:only-of-type {\n",
       "        vertical-align: middle;\n",
       "    }\n",
       "\n",
       "    .dataframe tbody tr th {\n",
       "        vertical-align: top;\n",
       "    }\n",
       "\n",
       "    .dataframe thead th {\n",
       "        text-align: right;\n",
       "    }\n",
       "</style>\n",
       "<table border=\"1\" class=\"dataframe\">\n",
       "  <thead>\n",
       "    <tr style=\"text-align: right;\">\n",
       "      <th></th>\n",
       "      <th>SUM(total_runs)</th>\n",
       "    </tr>\n",
       "  </thead>\n",
       "  <tbody>\n",
       "    <tr>\n",
       "      <th>0</th>\n",
       "      <td>998.0</td>\n",
       "    </tr>\n",
       "  </tbody>\n",
       "</table>\n",
       "</div>"
      ],
      "text/plain": [
       "   SUM(total_runs)\n",
       "0            998.0"
      ]
     },
     "execution_count": 4,
     "metadata": {},
     "output_type": "execute_result"
    }
   ],
   "source": [
    "from agents.langchain_sql_agent import ask_sql\n",
    "\n",
    "res = ask_sql(\"plot player comparison between V Kohli in 2016\")\n",
    "print(res[\"sql\"])\n",
    "res[\"df\"].head()\n"
   ]
  },
  {
   "cell_type": "code",
   "execution_count": 5,
   "id": "e6e0ef26",
   "metadata": {},
   "outputs": [],
   "source": [
    "from agents.tool_registry import (\n",
    "    get_comparison,\n",
    "    get_top_scorers,\n",
    "    get_score_prediction,\n",
    "    get_match_summary\n",
    ")\n"
   ]
  },
  {
   "cell_type": "code",
   "execution_count": 7,
   "id": "85474c05",
   "metadata": {},
   "outputs": [
    {
     "name": "stderr",
     "output_type": "stream",
     "text": [
      "d:\\BITS Pilani\\Year 4\\Sem 4-2\\LLM\\Project\\cricket-stats-gpt\\src\\analytics\\comparisons.py:20: UserWarning: pandas only supports SQLAlchemy connectable (engine/connection) or database string URI or sqlite3 DBAPI2 connection. Other DBAPI2 objects are not tested. Please consider using SQLAlchemy.\n",
      "  df = pd.read_sql(sql, connect_db())\n"
     ]
    },
    {
     "data": {
      "text/plain": [
       "'     player  innings  total_runs  fours  sixes  balls_faced  strike_rate\\n0  S Dhawan     3005      3561.0  401.0   71.0         3005       118.50\\n1   V Kohli     3494      4423.0  384.0  160.0         3494       126.59'"
      ]
     },
     "execution_count": 7,
     "metadata": {},
     "output_type": "execute_result"
    }
   ],
   "source": [
    "get_comparison.invoke({\"player1\": \"V Kohli\", \"player2\": \"S Dhawan\"})\n"
   ]
  },
  {
   "cell_type": "code",
   "execution_count": 2,
   "id": "5cfbc1c9",
   "metadata": {},
   "outputs": [
    {
     "name": "stderr",
     "output_type": "stream",
     "text": [
      "c:\\Users\\singh_7l8q9pm\\anaconda3\\lib\\site-packages\\pandas\\core\\arrays\\masked.py:60: UserWarning: Pandas requires version '1.3.6' or newer of 'bottleneck' (version '1.3.5' currently installed).\n",
      "  from pandas.core import (\n",
      "d:\\BITS Pilani\\Year 4\\Sem 4-2\\LLM\\Project\\cricket-stats-gpt\\src\\agents\\multitool_agent.py:30: LangChainDeprecationWarning: LangChain agents will continue to be supported, but it is recommended for new use cases to be built with LangGraph. LangGraph offers a more flexible and full-featured framework for building agents, including support for tool-calling, persistence of state, and human-in-the-loop workflows. For details, refer to the `LangGraph documentation <https://langchain-ai.github.io/langgraph/>`_ as well as guides for `Migrating from AgentExecutor <https://python.langchain.com/docs/how_to/migrate_agent/>`_ and LangGraph's `Pre-built ReAct agent <https://langchain-ai.github.io/langgraph/how-tos/create-react-agent/>`_.\n",
      "  agent = initialize_agent(\n"
     ]
    },
    {
     "name": "stdout",
     "output_type": "stream",
     "text": [
      "\n",
      "\n",
      "\u001b[1m> Entering new AgentExecutor chain...\u001b[0m\n",
      "\u001b[32;1m\u001b[1;3mThought: I need to compare V Kohli and S Dhawan using a chart.\n",
      "Action: chart_player_comparison\n",
      "Action Input: V Kohli vs S Dhawan\u001b[0m"
     ]
    },
    {
     "name": "stderr",
     "output_type": "stream",
     "text": [
      "d:\\BITS Pilani\\Year 4\\Sem 4-2\\LLM\\Project\\cricket-stats-gpt\\src\\analytics\\comparisons.py:20: UserWarning: pandas only supports SQLAlchemy connectable (engine/connection) or database string URI or sqlite3 DBAPI2 connection. Other DBAPI2 objects are not tested. Please consider using SQLAlchemy.\n",
      "  df = pd.read_sql(sql, connect_db())\n"
     ]
    },
    {
     "data": {
      "image/png": "[encoded data removed]",
      "text/plain": [
       "<Figure size 800x500 with 1 Axes>"
      ]
     },
     "metadata": {},
     "output_type": "display_data"
    },
    {
     "data": {
      "image/png": "[encoded data removed]",
      "text/plain": [
       "<Figure size 800x500 with 1 Axes>"
      ]
     },
     "metadata": {},
     "output_type": "display_data"
    },
    {
     "name": "stdout",
     "output_type": "stream",
     "text": [
      "\n",
      "Observation: \u001b[36;1m\u001b[1;3mFinal Answer: Showing bar charts for V Kohli vs S Dhawan\u001b[0m\n",
      "Thought:\u001b[32;1m\u001b[1;3m\u001b[0m\n",
      "\n",
      "\u001b[1m> Finished chain.\u001b[0m\n"
     ]
    },
    {
     "data": {
      "text/plain": [
       "{'input': 'plot player comparison between V Kohli and S Dhawan',\n",
       " 'output': 'Agent stopped due to iteration limit or time limit.'}"
      ]
     },
     "execution_count": 2,
     "metadata": {},
     "output_type": "execute_result"
    }
   ],
   "source": [
    "from agents.multitool_agent import get_multitool_agent\n",
    "\n",
    "agent = get_multitool_agent()\n",
    "agent.invoke(\"plot player comparison between V Kohli and S Dhawan\")\n",
    "\n"
   ]
  }
 ],
 "metadata": {
  "kernelspec": {
   "display_name": "base",
   "language": "python",
   "name": "python3"
  },
  "language_info": {
   "codemirror_mode": {
    "name": "ipython",
    "version": 3
   },
   "file_extension": ".py",
   "mimetype": "text/x-python",
   "name": "python",
   "nbconvert_exporter": "python",
   "pygments_lexer": "ipython3",
   "version": "3.10.9"
  }
 },
 "nbformat": 4,
 "nbformat_minor": 5
}
