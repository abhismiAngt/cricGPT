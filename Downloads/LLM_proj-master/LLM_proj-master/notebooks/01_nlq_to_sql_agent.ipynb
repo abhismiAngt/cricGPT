{
 "cells": [
  {
   "cell_type": "code",
   "execution_count": null,
   "id": "d9f5e2ac",
   "metadata": {},
   "outputs": [
    {
     "name": "stdout",
     "output_type": "stream",
     "text": [
      "🔍 Gemini-generated SQL:\n",
      " SELECT batsman, SUM(batsman_runs) AS total_runs\n",
      "FROM deliveries\n",
      "JOIN matches ON deliveries.match_id = matches.id\n",
      "WHERE season = 2016\n",
      "GROUP BY batsman\n",
      "ORDER BY total_runs DESC\n",
      "LIMIT 1;\n"
     ]
    }
   ],
   "source": [
    "import sys, os\n",
    "sys.path.append(os.path.abspath(\"../src\"))\n",
    "\n",
    "\n",
    "\n",
    "from llm.gemini_utils import load_gemini_model\n",
    "from llm.prompt_templates import build_prompt\n",
    "\n",
    "from dotenv import load_dotenv\n",
    "load_dotenv()\n",
    "\n",
    "model = load_gemini_model()\n",
    "\n",
    "def clean_sql(text):\n",
    "    return text.replace(\"```sql\", \"\").replace(\"```\", \"\").strip()\n",
    "\n",
    "\n",
    "# Ask your question\n",
    "question = \"Which player scored the most runs in 2016 IPL?\"\n",
    "prompt = build_prompt(question)\n",
    "\n",
    "# Gemini generates SQL\n",
    "response = model.generate_content(prompt)\n",
    "sql = response.text.strip()\n",
    "\n",
    "if sql.startswith(\"```sql\"):\n",
    "    sql = sql.strip(\"```sql\").strip(\"```\").strip()\n",
    "elif sql.startswith(\"```\"):\n",
    "    sql = sql.strip(\"```\").strip()\n",
    "    \n",
    "print(\"🔍 Gemini-generated SQL:\\n\", sql)\n"
   ]
  },
  {
   "cell_type": "code",
   "execution_count": 4,
   "id": "15c44d33",
   "metadata": {},
   "outputs": [
    {
     "name": "stderr",
     "output_type": "stream",
     "text": [
      "c:\\Users\\singh_7l8q9pm\\anaconda3\\lib\\site-packages\\pandas\\core\\arrays\\masked.py:60: UserWarning: Pandas requires version '1.3.6' or newer of 'bottleneck' (version '1.3.5' currently installed).\n",
      "  from pandas.core import (\n",
      "C:\\Users\\singh_7l8q9pm\\AppData\\Local\\Temp\\ipykernel_20072\\4124251789.py:11: UserWarning: pandas only supports SQLAlchemy connectable (engine/connection) or database string URI or sqlite3 DBAPI2 connection. Other DBAPI2 objects are not tested. Please consider using SQLAlchemy.\n",
      "  df = pd.read_sql(sql, conn)\n"
     ]
    },
    {
     "data": {
      "text/html": [
       "<div>\n",
       "<style scoped>\n",
       "    .dataframe tbody tr th:only-of-type {\n",
       "        vertical-align: middle;\n",
       "    }\n",
       "\n",
       "    .dataframe tbody tr th {\n",
       "        vertical-align: top;\n",
       "    }\n",
       "\n",
       "    .dataframe thead th {\n",
       "        text-align: right;\n",
       "    }\n",
       "</style>\n",
       "<table border=\"1\" class=\"dataframe\">\n",
       "  <thead>\n",
       "    <tr style=\"text-align: right;\">\n",
       "      <th></th>\n",
       "      <th>batsman</th>\n",
       "      <th>total_runs</th>\n",
       "    </tr>\n",
       "  </thead>\n",
       "  <tbody>\n",
       "    <tr>\n",
       "      <th>0</th>\n",
       "      <td>V Kohli</td>\n",
       "      <td>973.0</td>\n",
       "    </tr>\n",
       "  </tbody>\n",
       "</table>\n",
       "</div>"
      ],
      "text/plain": [
       "   batsman  total_runs\n",
       "0  V Kohli       973.0"
      ]
     },
     "execution_count": 4,
     "metadata": {},
     "output_type": "execute_result"
    }
   ],
   "source": [
    "import pymysql\n",
    "import pandas as pd\n",
    "\n",
    "def run_query(sql):\n",
    "    conn = pymysql.connect(\n",
    "        host=\"localhost\",\n",
    "        user=\"root\",\n",
    "        password=os.getenv(\"MYSQL_PASSWORD\"),\n",
    "        database=\"cricstats\"\n",
    "    )\n",
    "    df = pd.read_sql(sql, conn)\n",
    "    conn.close()\n",
    "    return df\n",
    "result_df = run_query(sql)\n",
    "result_df\n"
   ]
  },
  {
   "cell_type": "code",
   "execution_count": null,
   "id": "f39e88f4",
   "metadata": {},
   "outputs": [
    {
     "name": "stdout",
     "output_type": "stream",
     "text": [
      "🧠 NLQ: How many matches did KKR win in 2016?\n",
      "📄 SQL: SELECT COUNT(*)\n",
      "FROM matches\n",
      "WHERE season = 2016 AND winner = 'Kolkata Knight Riders';\n",
      "\n"
     ]
    },
    {
     "name": "stderr",
     "output_type": "stream",
     "text": [
      "C:\\Users\\singh_7l8q9pm\\AppData\\Local\\Temp\\ipykernel_15436\\4124251789.py:11: UserWarning: pandas only supports SQLAlchemy connectable (engine/connection) or database string URI or sqlite3 DBAPI2 connection. Other DBAPI2 objects are not tested. Please consider using SQLAlchemy.\n",
      "  df = pd.read_sql(sql, conn)\n"
     ]
    },
    {
     "data": {
      "text/html": [
       "<div>\n",
       "<style scoped>\n",
       "    .dataframe tbody tr th:only-of-type {\n",
       "        vertical-align: middle;\n",
       "    }\n",
       "\n",
       "    .dataframe tbody tr th {\n",
       "        vertical-align: top;\n",
       "    }\n",
       "\n",
       "    .dataframe thead th {\n",
       "        text-align: right;\n",
       "    }\n",
       "</style>\n",
       "<table border=\"1\" class=\"dataframe\">\n",
       "  <thead>\n",
       "    <tr style=\"text-align: right;\">\n",
       "      <th></th>\n",
       "      <th>COUNT(*)</th>\n",
       "    </tr>\n",
       "  </thead>\n",
       "  <tbody>\n",
       "    <tr>\n",
       "      <th>0</th>\n",
       "      <td>8</td>\n",
       "    </tr>\n",
       "  </tbody>\n",
       "</table>\n",
       "</div>"
      ],
      "text/plain": [
       "   COUNT(*)\n",
       "0         8"
      ]
     },
     "metadata": {},
     "output_type": "display_data"
    },
    {
     "name": "stdout",
     "output_type": "stream",
     "text": [
      "🧠 NLQ: What is the average score in matches at Wankhede?\n",
      "📄 SQL: SELECT AVG(total_runs)\n",
      "FROM deliveries AS d\n",
      "JOIN matches AS m ON d.match_id = m.id\n",
      "WHERE m.venue = 'Wankhede Stadium';\n",
      "\n"
     ]
    },
    {
     "name": "stderr",
     "output_type": "stream",
     "text": [
      "C:\\Users\\singh_7l8q9pm\\AppData\\Local\\Temp\\ipykernel_15436\\4124251789.py:11: UserWarning: pandas only supports SQLAlchemy connectable (engine/connection) or database string URI or sqlite3 DBAPI2 connection. Other DBAPI2 objects are not tested. Please consider using SQLAlchemy.\n",
      "  df = pd.read_sql(sql, conn)\n"
     ]
    },
    {
     "data": {
      "text/html": [
       "<div>\n",
       "<style scoped>\n",
       "    .dataframe tbody tr th:only-of-type {\n",
       "        vertical-align: middle;\n",
       "    }\n",
       "\n",
       "    .dataframe tbody tr th {\n",
       "        vertical-align: top;\n",
       "    }\n",
       "\n",
       "    .dataframe thead th {\n",
       "        text-align: right;\n",
       "    }\n",
       "</style>\n",
       "<table border=\"1\" class=\"dataframe\">\n",
       "  <thead>\n",
       "    <tr style=\"text-align: right;\">\n",
       "      <th></th>\n",
       "      <th>AVG(total_runs)</th>\n",
       "    </tr>\n",
       "  </thead>\n",
       "  <tbody>\n",
       "    <tr>\n",
       "      <th>0</th>\n",
       "      <td>1.3149</td>\n",
       "    </tr>\n",
       "  </tbody>\n",
       "</table>\n",
       "</div>"
      ],
      "text/plain": [
       "   AVG(total_runs)\n",
       "0           1.3149"
      ]
     },
     "metadata": {},
     "output_type": "display_data"
    },
    {
     "name": "stdout",
     "output_type": "stream",
     "text": [
      "🧠 NLQ: List top 3 players dismissed most by Bhuvneshwar Kumar\n",
      "📄 SQL: SELECT player_dismissed\n",
      "FROM deliveries\n",
      "WHERE bowler = 'Bhuvneshwar Kumar' AND player_dismissed IS NOT NULL\n",
      "GROUP BY player_dismissed\n",
      "ORDER BY COUNT(*) DESC\n",
      "LIMIT 3;\n",
      "\n"
     ]
    },
    {
     "name": "stderr",
     "output_type": "stream",
     "text": [
      "C:\\Users\\singh_7l8q9pm\\AppData\\Local\\Temp\\ipykernel_15436\\4124251789.py:11: UserWarning: pandas only supports SQLAlchemy connectable (engine/connection) or database string URI or sqlite3 DBAPI2 connection. Other DBAPI2 objects are not tested. Please consider using SQLAlchemy.\n",
      "  df = pd.read_sql(sql, conn)\n"
     ]
    },
    {
     "data": {
      "text/html": [
       "<div>\n",
       "<style scoped>\n",
       "    .dataframe tbody tr th:only-of-type {\n",
       "        vertical-align: middle;\n",
       "    }\n",
       "\n",
       "    .dataframe tbody tr th {\n",
       "        vertical-align: top;\n",
       "    }\n",
       "\n",
       "    .dataframe thead th {\n",
       "        text-align: right;\n",
       "    }\n",
       "</style>\n",
       "<table border=\"1\" class=\"dataframe\">\n",
       "  <thead>\n",
       "    <tr style=\"text-align: right;\">\n",
       "      <th></th>\n",
       "      <th>player_dismissed</th>\n",
       "    </tr>\n",
       "  </thead>\n",
       "  <tbody>\n",
       "  </tbody>\n",
       "</table>\n",
       "</div>"
      ],
      "text/plain": [
       "Empty DataFrame\n",
       "Columns: [player_dismissed]\n",
       "Index: []"
      ]
     },
     "metadata": {},
     "output_type": "display_data"
    }
   ],
   "source": [
    "questions = [\n",
    "  \"How many matches did KKR win in 2016?\",\n",
    "  \"What is the average score in matches at Wankhede?\",\n",
    "  \"List top 3 players dismissed most by Bhuvneshwar Kumar\"\n",
    "]\n",
    "\n",
    "for q in questions:\n",
    "    prompt = build_prompt(q)\n",
    "    sql = sql = clean_sql(model.generate_content(prompt).text)\n",
    "\n",
    "    print(f\" NLQ: {q}\\n SQL: {sql}\\n\")\n",
    "    try:\n",
    "        result = run_query(sql)\n",
    "        display(result.head())\n",
    "    except Exception as e:\n",
    "        print(f\" Error: {e}\")\n"
   ]
  },
  {
   "cell_type": "code",
   "execution_count": 5,
   "id": "132a3d0f",
   "metadata": {},
   "outputs": [
    {
     "name": "stdout",
     "output_type": "stream",
     "text": [
      "SELECT batsman, SUM(batsman_runs) AS total_runs\n",
      "        FROM deliveries\n",
      "        JOIN matches ON deliveries.match_id = matches.id\n",
      "        WHERE season = 2016\n",
      "        GROUP BY batsman\n",
      "        ORDER BY total_runs DESC\n",
      "        LIMIT 5;\n",
      "SELECT COUNT(*) AS wins\n",
      "        FROM matches\n",
      "        WHERE winner = 'RCB' AND season = 2014;\n"
     ]
    }
   ],
   "source": [
    "import sys, os\n",
    "sys.path.append(os.path.abspath(\"../src\"))\n",
    "\n",
    "from llm.prompt_templates import render_template\n",
    "\n",
    "print(render_template(\"top_scorers\", season=2016, limit=5))\n",
    "print(render_template(\"team_wins\", team=\"RCB\", season=2014))\n"
   ]
  },
  {
   "cell_type": "code",
   "execution_count": 6,
   "id": "297429d7",
   "metadata": {},
   "outputs": [
    {
     "name": "stderr",
     "output_type": "stream",
     "text": [
      "C:\\Users\\singh_7l8q9pm\\AppData\\Local\\Temp\\ipykernel_20072\\4124251789.py:11: UserWarning: pandas only supports SQLAlchemy connectable (engine/connection) or database string URI or sqlite3 DBAPI2 connection. Other DBAPI2 objects are not tested. Please consider using SQLAlchemy.\n",
      "  df = pd.read_sql(sql, conn)\n"
     ]
    },
    {
     "data": {
      "text/html": [
       "<div>\n",
       "<style scoped>\n",
       "    .dataframe tbody tr th:only-of-type {\n",
       "        vertical-align: middle;\n",
       "    }\n",
       "\n",
       "    .dataframe tbody tr th {\n",
       "        vertical-align: top;\n",
       "    }\n",
       "\n",
       "    .dataframe thead th {\n",
       "        text-align: right;\n",
       "    }\n",
       "</style>\n",
       "<table border=\"1\" class=\"dataframe\">\n",
       "  <thead>\n",
       "    <tr style=\"text-align: right;\">\n",
       "      <th></th>\n",
       "      <th>batsman</th>\n",
       "      <th>total_runs</th>\n",
       "    </tr>\n",
       "  </thead>\n",
       "  <tbody>\n",
       "    <tr>\n",
       "      <th>0</th>\n",
       "      <td>V Kohli</td>\n",
       "      <td>973.0</td>\n",
       "    </tr>\n",
       "    <tr>\n",
       "      <th>1</th>\n",
       "      <td>DA Warner</td>\n",
       "      <td>848.0</td>\n",
       "    </tr>\n",
       "    <tr>\n",
       "      <th>2</th>\n",
       "      <td>AB de Villiers</td>\n",
       "      <td>687.0</td>\n",
       "    </tr>\n",
       "    <tr>\n",
       "      <th>3</th>\n",
       "      <td>S Dhawan</td>\n",
       "      <td>501.0</td>\n",
       "    </tr>\n",
       "    <tr>\n",
       "      <th>4</th>\n",
       "      <td>G Gambhir</td>\n",
       "      <td>501.0</td>\n",
       "    </tr>\n",
       "  </tbody>\n",
       "</table>\n",
       "</div>"
      ],
      "text/plain": [
       "          batsman  total_runs\n",
       "0         V Kohli       973.0\n",
       "1       DA Warner       848.0\n",
       "2  AB de Villiers       687.0\n",
       "3        S Dhawan       501.0\n",
       "4       G Gambhir       501.0"
      ]
     },
     "execution_count": 6,
     "metadata": {},
     "output_type": "execute_result"
    }
   ],
   "source": [
    "run_query(render_template(\"top_scorers\", season=2016, limit=5))"
   ]
  },
  {
   "cell_type": "code",
   "execution_count": 3,
   "id": "bc77c1f8",
   "metadata": {},
   "outputs": [],
   "source": [
    "import sys, os\n",
    "sys.path.append(os.path.abspath(\"../src\"))\n",
    "from agents.multitool_agent import get_multitool_agent"
   ]
  },
  {
   "cell_type": "code",
   "execution_count": 4,
   "id": "e5daa2d8",
   "metadata": {},
   "outputs": [
    {
     "name": "stderr",
     "output_type": "stream",
     "text": [
      "d:\\BITS Pilani\\Year 4\\Sem 4-2\\LLM\\Project\\cricket-stats-gpt\\src\\agents\\multitool_agent.py:31: LangChainDeprecationWarning: LangChain agents will continue to be supported, but it is recommended for new use cases to be built with LangGraph. LangGraph offers a more flexible and full-featured framework for building agents, including support for tool-calling, persistence of state, and human-in-the-loop workflows. For details, refer to the `LangGraph documentation <https://langchain-ai.github.io/langgraph/>`_ as well as guides for `Migrating from AgentExecutor <https://python.langchain.com/docs/how_to/migrate_agent/>`_ and LangGraph's `Pre-built ReAct agent <https://langchain-ai.github.io/langgraph/how-tos/create-react-agent/>`_.\n",
      "  agent = initialize_agent(\n",
      "C:\\Users\\singh_7l8q9pm\\AppData\\Local\\Temp\\ipykernel_2952\\2093600427.py:4: LangChainDeprecationWarning: The method `Chain.run` was deprecated in langchain 0.1.0 and will be removed in 1.0. Use :meth:`~invoke` instead.\n",
      "  response = agent.run(question)\n"
     ]
    },
    {
     "name": "stdout",
     "output_type": "stream",
     "text": [
      "\n",
      "\n",
      "\u001b[1m> Entering new AgentExecutor chain...\u001b[0m\n",
      "\u001b[32;1m\u001b[1;3mI need to compare two players.\n",
      "Action: get_comparison\n",
      "Action Input: V Kohli vs S Dhawan\u001b[0m"
     ]
    },
    {
     "name": "stderr",
     "output_type": "stream",
     "text": [
      "d:\\BITS Pilani\\Year 4\\Sem 4-2\\LLM\\Project\\cricket-stats-gpt\\src\\analytics\\comparisons.py:23: UserWarning: pandas only supports SQLAlchemy connectable (engine/connection) or database string URI or sqlite3 DBAPI2 connection. Other DBAPI2 objects are not tested. Please consider using SQLAlchemy.\n",
      "  df = pd.read_sql(sql, connect_db())\n"
     ]
    },
    {
     "name": "stdout",
     "output_type": "stream",
     "text": [
      "\n",
      "Observation: \u001b[36;1m\u001b[1;3mFinal Answer:\n",
      "  player  innings  total_runs  fours  sixes  balls_faced  strike_rate\n",
      "S Dhawan     3005      3561.0  401.0   71.0         3005       118.50\n",
      " V Kohli     3494      4423.0  384.0  160.0         3494       126.59\u001b[0m\n",
      "Thought:\u001b[32;1m\u001b[1;3mI have the comparison data.\n",
      "Final Answer:\n",
      "```json\n",
      "[\n",
      "  {\n",
      "    \"player\": \"S Dhawan\",\n",
      "    \"innings\": 3005,\n",
      "    \"total_runs\": 3561.0,\n",
      "    \"fours\": 401.0,\n",
      "    \"sixes\": 71.0,\n",
      "    \"balls_faced\": 3005,\n",
      "    \"strike_rate\": 118.50\n",
      "  },\n",
      "  {\n",
      "    \"player\": \"V Kohli\",\n",
      "    \"innings\": 3494,\n",
      "    \"total_runs\": 4423.0,\n",
      "    \"fours\": 384.0,\n",
      "    \"sixes\": 160.0,\n",
      "    \"balls_faced\": 3494,\n",
      "    \"strike_rate\": 126.59\n",
      "  }\n",
      "]\n",
      "```\u001b[0m\n",
      "\n",
      "\u001b[1m> Finished chain.\u001b[0m\n"
     ]
    }
   ],
   "source": [
    "# run Compare V Kholi vs S Dhawan\n",
    "agent = get_multitool_agent()\n",
    "question = \"Compare V Kholi vs S Dhawan\"\n",
    "response = agent.run(question)"
   ]
  },
  {
   "cell_type": "code",
   "execution_count": 5,
   "id": "f97ab9d6",
   "metadata": {},
   "outputs": [
    {
     "name": "stdout",
     "output_type": "stream",
     "text": [
      "\n",
      "\n",
      "\u001b[1m> Entering new AgentExecutor chain...\u001b[0m\n",
      "\u001b[32;1m\u001b[1;3mI need to find the wins by Mumbai Indians in 2016 and the teams they beat. I can use the `get_team_wins` tool to get the number of wins per season for Mumbai Indians. Since I also need to know the teams they beat, I will need to use SQL fallback.\n",
      "Action: get_team_wins\n",
      "Action Input: Mumbai Indians\u001b[0m\n",
      "Observation: \u001b[33;1m\u001b[1;3mFinal Answer:\n",
      " season  wins\n",
      "   2008     7\n",
      "   2009     5\n",
      "   2010    11\n",
      "   2011    10\n",
      "   2012    10\n",
      "   2013    13\n",
      "   2014     7\n",
      "   2015    10\n",
      "   2016     7\n",
      "   2017    12\u001b[0m\n",
      "Thought:"
     ]
    },
    {
     "name": "stderr",
     "output_type": "stream",
     "text": [
      "d:\\BITS Pilani\\Year 4\\Sem 4-2\\LLM\\Project\\cricket-stats-gpt\\src\\analytics\\team.py:12: UserWarning: pandas only supports SQLAlchemy connectable (engine/connection) or database string URI or sqlite3 DBAPI2 connection. Other DBAPI2 objects are not tested. Please consider using SQLAlchemy.\n",
      "  return pd.read_sql(sql, connect_db())\n"
     ]
    },
    {
     "name": "stdout",
     "output_type": "stream",
     "text": [
      "\u001b[32;1m\u001b[1;3mI have the number of wins for Mumbai Indians in 2016. Now I need to find the teams they beat in 2016. I will use SQL fallback for this.\n",
      "Action: sql_fallback\n",
      "Action Input: SELECT match_id, team1, team2, winner FROM matches WHERE (team1 = 'Mumbai Indians' OR team2 = 'Mumbai Indians') AND season = 2016\u001b[0m\n",
      "\n",
      "\u001b[1m> Entering new SQL Agent Executor chain...\u001b[0m\n",
      "\u001b[32;1m\u001b[1;3m```sql\n",
      "SELECT\n",
      "  matches.id,\n",
      "  matches.team1,\n",
      "  matches.team2,\n",
      "  matches.winner\n",
      "FROM matches\n",
      "WHERE\n",
      "  (    matches.team1 = 'Mumbai Indians'\n",
      "    OR matches.team2 = 'Mumbai Indians'\n",
      "  )\n",
      "  AND matches.season = 2016\n",
      "LIMIT 100\n",
      "```\u001b[0m\n",
      "\n",
      "\u001b[1m> Finished chain.\u001b[0m\n",
      "\n",
      "Observation: \u001b[36;1m\u001b[1;3mFinal Answer:\n",
      "SQL used:\n",
      "SELECT matches.id, matches.team1, matches.team2, matches.winner FROM matches WHERE ( matches.team1 = 'Mumbai Indians' OR matches.team2 = 'Mumbai Indians' ) AND matches.season = 2016 LIMIT 100\n",
      "\n",
      "Results:\n",
      " id                       team1                   team2                  winner\n",
      "577              Mumbai Indians Rising Pune Supergiants Rising Pune Supergiants\n",
      "581       Kolkata Knight Riders          Mumbai Indians          Mumbai Indians\n",
      "585              Mumbai Indians           Gujarat Lions           Gujarat Lions\n",
      "588              Mumbai Indians     Sunrisers Hyderabad     Sunrisers Hyderabad\n",
      "590 Royal Challengers Bangalore          Mumbai Indians          Mumbai Indians\n",
      "593            Delhi Daredevils          Mumbai Indians        Delhi Daredevils\n",
      "597              Mumbai Indians         Kings XI Punjab          Mumbai Indians\n",
      "600       Kolkata Knight Riders          Mumbai Indians          Mumbai Indians\n",
      "605     Rising Pune Supergiants          Mumbai Indians          Mumbai Indians\n",
      "613         Sunrisers Hyderabad          Mumbai Indians     Sunrisers Hyderabad\n",
      "617 Royal Challengers Bangalore          Mumbai Indians          Mumbai Indians\n",
      "619              Mumbai Indians         Kings XI Punjab         Kings XI Punjab\n",
      "623              Mumbai Indians        Delhi Daredevils          Mumbai Indians\n",
      "630              Mumbai Indians           Gujarat Lions           Gujarat Lions\u001b[0m\n",
      "Thought:"
     ]
    },
    {
     "name": "stderr",
     "output_type": "stream",
     "text": [
      "d:\\BITS Pilani\\Year 4\\Sem 4-2\\LLM\\Project\\cricket-stats-gpt\\src\\agents\\langchain_sql_agent.py:64: UserWarning: pandas only supports SQLAlchemy connectable (engine/connection) or database string URI or sqlite3 DBAPI2 connection. Other DBAPI2 objects are not tested. Please consider using SQLAlchemy.\n",
      "  df = pd.read_sql(sql_cleaned, connect_db())\n"
     ]
    },
    {
     "name": "stdout",
     "output_type": "stream",
     "text": [
      "\u001b[32;1m\u001b[1;3mI have the number of wins for Mumbai Indians in 2016 (7) and the teams they beat in 2016.\n",
      "Final Answer: Mumbai Indians won 7 matches in 2016. They beat Kolkata Knight Riders twice, Royal Challengers Bangalore twice, Kings XI Punjab, and Delhi Daredevils. They lost to Rising Pune Supergiants, Gujarat Lions, and Sunrisers Hyderabad.\u001b[0m\n",
      "\n",
      "\u001b[1m> Finished chain.\u001b[0m\n"
     ]
    }
   ],
   "source": [
    "# run Compare V Kholi vs S Dhawan\n",
    "agent = get_multitool_agent()\n",
    "question = \"Wins by Mumbai Indians in 2016 IPL and the teams they beat\" \n",
    "response = agent.run(question)"
   ]
  },
  {
   "cell_type": "code",
   "execution_count": null,
   "id": "cd3acf06",
   "metadata": {},
   "outputs": [
    {
     "name": "stderr",
     "output_type": "stream",
     "text": [
      "d:\\BITS Pilani\\Year 4\\Sem 4-2\\LLM\\Project\\cricket-stats-gpt\\src\\agents\\multitool_agent.py:31: LangChainDeprecationWarning: LangChain agents will continue to be supported, but it is recommended for new use cases to be built with LangGraph. LangGraph offers a more flexible and full-featured framework for building agents, including support for tool-calling, persistence of state, and human-in-the-loop workflows. For details, refer to the `LangGraph documentation <https://langchain-ai.github.io/langgraph/>`_ as well as guides for `Migrating from AgentExecutor <https://python.langchain.com/docs/how_to/migrate_agent/>`_ and LangGraph's `Pre-built ReAct agent <https://langchain-ai.github.io/langgraph/how-tos/create-react-agent/>`_.\n",
      "  agent = initialize_agent(\n",
      "C:\\Users\\singh_7l8q9pm\\AppData\\Local\\Temp\\ipykernel_20712\\465415081.py:45: LangChainDeprecationWarning: The method `Chain.run` was deprecated in langchain 0.1.0 and will be removed in 1.0. Use :meth:`~invoke` instead.\n",
      "  response = agent.run(question)\n"
     ]
    },
    {
     "name": "stdout",
     "output_type": "stream",
     "text": [
      "\n",
      "\n",
      "\u001b[1m> Entering new AgentExecutor chain...\u001b[0m\n",
      "\u001b[32;1m\u001b[1;3mI need to compare two players, so I should use the get_comparison tool.\n",
      "Action: get_comparison\n",
      "Action Input: V Kohli vs S Dhawan\u001b[0m"
     ]
    },
    {
     "name": "stderr",
     "output_type": "stream",
     "text": [
      "d:\\BITS Pilani\\Year 4\\Sem 4-2\\LLM\\Project\\cricket-stats-gpt\\src\\analytics\\comparisons.py:23: UserWarning: pandas only supports SQLAlchemy connectable (engine/connection) or database string URI or sqlite3 DBAPI2 connection. Other DBAPI2 objects are not tested. Please consider using SQLAlchemy.\n",
      "  df = pd.read_sql(sql, connect_db())\n"
     ]
    },
    {
     "name": "stdout",
     "output_type": "stream",
     "text": [
      "\n",
      "Observation: \u001b[36;1m\u001b[1;3mFinal Answer:\n",
      "  player  innings  total_runs  fours  sixes  balls_faced  strike_rate\n",
      "S Dhawan     3005      3561.0  401.0   71.0         3005       118.50\n",
      " V Kohli     3494      4423.0  384.0  160.0         3494       126.59\u001b[0m\n",
      "Thought:\u001b[32;1m\u001b[1;3mI now have the comparison data.\n",
      "Final Answer:\n",
      "```\n",
      "player  innings  total_runs  fours  sixes  balls_faced  strike_rate\n",
      "S Dhawan     3005      3561.0  401.0   71.0         3005       118.50\n",
      " V Kohli     3494      4423.0  384.0  160.0         3494       126.59\n",
      "```\u001b[0m\n",
      "\n",
      "\u001b[1m> Finished chain.\u001b[0m\n",
      "\n",
      "\n",
      "\u001b[1m> Entering new AgentExecutor chain...\u001b[0m\n",
      "\u001b[32;1m\u001b[1;3mI need to find the average runs per match for Rohit Sharma. I don't have a direct tool for that. I can try to get a comparison with another player to see if I can get some stats. If that doesn't work, I'll need to use SQL.\n",
      "Action: get_comparison\n",
      "Action Input: Rohit Sharma vs Virat Kohli\u001b[0m"
     ]
    },
    {
     "name": "stderr",
     "output_type": "stream",
     "text": [
      "d:\\BITS Pilani\\Year 4\\Sem 4-2\\LLM\\Project\\cricket-stats-gpt\\src\\analytics\\comparisons.py:23: UserWarning: pandas only supports SQLAlchemy connectable (engine/connection) or database string URI or sqlite3 DBAPI2 connection. Other DBAPI2 objects are not tested. Please consider using SQLAlchemy.\n",
      "  df = pd.read_sql(sql, connect_db())\n"
     ]
    },
    {
     "name": "stdout",
     "output_type": "stream",
     "text": [
      "\n",
      "Observation: \u001b[36;1m\u001b[1;3mFinal Answer:\n",
      "Empty DataFrame\n",
      "Columns: [player, innings, total_runs, fours, sixes, balls_faced, strike_rate]\n",
      "Index: []\u001b[0m\n",
      "Thought:\u001b[32;1m\u001b[1;3mI was unable to get the average runs per match using the comparison tool. I will now use SQL to get the information.\n",
      "Action: sql_fallback\n",
      "Action Input: SELECT AVG(total_runs) FROM batting_summary WHERE player_name = 'Rohit Sharma'\u001b[0m\n",
      "\n",
      "\u001b[1m> Entering new SQL Agent Executor chain...\u001b[0m\n",
      "\u001b[32;1m\u001b[1;3m```sql\n",
      "SELECT\n",
      "  AVG(total_runs)\n",
      "FROM deliveries\n",
      "JOIN matches\n",
      "  ON deliveries.match_id = matches.id\n",
      "WHERE\n",
      "  batsman = 'Rohit Sharma'\n",
      "LIMIT 100;\n",
      "```\u001b[0m\n",
      "\n",
      "\u001b[1m> Finished chain.\u001b[0m\n"
     ]
    },
    {
     "name": "stderr",
     "output_type": "stream",
     "text": [
      "d:\\BITS Pilani\\Year 4\\Sem 4-2\\LLM\\Project\\cricket-stats-gpt\\src\\agents\\langchain_sql_agent.py:64: UserWarning: pandas only supports SQLAlchemy connectable (engine/connection) or database string URI or sqlite3 DBAPI2 connection. Other DBAPI2 objects are not tested. Please consider using SQLAlchemy.\n",
      "  df = pd.read_sql(sql_cleaned, connect_db())\n"
     ]
    },
    {
     "name": "stdout",
     "output_type": "stream",
     "text": [
      "\n",
      "Observation: \u001b[36;1m\u001b[1;3mFinal Answer:\n",
      "SQL used:\n",
      "SELECT AVG(total_runs) FROM deliveries JOIN matches ON deliveries.match_id = matches.id WHERE batsman = 'Rohit Sharma' LIMIT 100;\n",
      "\n",
      "Results:\n",
      "AVG(total_runs)\n",
      "           None\u001b[0m\n",
      "Thought:\u001b[32;1m\u001b[1;3mI was unable to get the average runs per match using the comparison tool or SQL. I will try to get the total runs scored by Rohit Sharma and then try to find the number of matches he played to calculate the average.\n",
      "Action: sql_fallback\n",
      "Action Input: SELECT SUM(total_runs) FROM batting_summary WHERE player_name = 'Rohit Sharma'\u001b[0m\n",
      "\n",
      "\u001b[1m> Entering new SQL Agent Executor chain...\u001b[0m\n",
      "\u001b[32;1m\u001b[1;3m```sql\n",
      "SELECT\n",
      "  SUM(total_runs)\n",
      "FROM deliveries\n",
      "WHERE\n",
      "  batsman = 'Rohit Sharma'\n",
      "LIMIT 100;\n",
      "```\u001b[0m\n",
      "\n",
      "\u001b[1m> Finished chain.\u001b[0m\n"
     ]
    },
    {
     "name": "stderr",
     "output_type": "stream",
     "text": [
      "d:\\BITS Pilani\\Year 4\\Sem 4-2\\LLM\\Project\\cricket-stats-gpt\\src\\agents\\langchain_sql_agent.py:64: UserWarning: pandas only supports SQLAlchemy connectable (engine/connection) or database string URI or sqlite3 DBAPI2 connection. Other DBAPI2 objects are not tested. Please consider using SQLAlchemy.\n",
      "  df = pd.read_sql(sql_cleaned, connect_db())\n"
     ]
    },
    {
     "name": "stdout",
     "output_type": "stream",
     "text": [
      "\n",
      "Observation: \u001b[36;1m\u001b[1;3mFinal Answer:\n",
      "SQL used:\n",
      "SELECT SUM(total_runs) FROM deliveries WHERE batsman = 'Rohit Sharma' LIMIT 100;\n",
      "\n",
      "Results:\n",
      "SUM(total_runs)\n",
      "           None\u001b[0m\n",
      "Thought:\u001b[32;1m\u001b[1;3mI am unable to get the average runs per match for Rohit Sharma using the available tools. I will try to get the total runs scored by Rohit Sharma and then try to find the number of matches he played to calculate the average.\n",
      "Action: sql_fallback\n",
      "Action Input: SELECT COUNT(DISTINCT match_id) FROM deliveries WHERE batsman = 'Rohit Sharma'\u001b[0m\n",
      "\n",
      "\u001b[1m> Entering new SQL Agent Executor chain...\u001b[0m\n",
      "\u001b[32;1m\u001b[1;3m```sql\n",
      "SELECT\n",
      "  COUNT(DISTINCT match_id)\n",
      "FROM deliveries\n",
      "WHERE\n",
      "  batsman = 'Rohit Sharma'\n",
      "LIMIT 100;```\u001b[0m\n",
      "\n",
      "\u001b[1m> Finished chain.\u001b[0m\n"
     ]
    },
    {
     "name": "stderr",
     "output_type": "stream",
     "text": [
      "d:\\BITS Pilani\\Year 4\\Sem 4-2\\LLM\\Project\\cricket-stats-gpt\\src\\agents\\langchain_sql_agent.py:64: UserWarning: pandas only supports SQLAlchemy connectable (engine/connection) or database string URI or sqlite3 DBAPI2 connection. Other DBAPI2 objects are not tested. Please consider using SQLAlchemy.\n",
      "  df = pd.read_sql(sql_cleaned, connect_db())\n"
     ]
    },
    {
     "name": "stdout",
     "output_type": "stream",
     "text": [
      "\n",
      "Observation: \u001b[36;1m\u001b[1;3mFinal Answer:\n",
      "SQL used:\n",
      "SELECT COUNT(DISTINCT match_id) FROM deliveries WHERE batsman = 'Rohit Sharma' LIMIT 100;\n",
      "\n",
      "Results:\n",
      " COUNT(DISTINCT match_id)\n",
      "                        0\u001b[0m\n",
      "Thought:\u001b[32;1m\u001b[1;3mI am unable to get the average runs per match for Rohit Sharma using the available tools. I will try to get the total runs scored by Rohit Sharma and then try to find the number of matches he played to calculate the average.\n",
      "Action: sql_fallback\n",
      "Action Input: SELECT SUM(runs_off_bat) FROM deliveries WHERE batsman = 'Rohit Sharma'\u001b[0m\n",
      "\n",
      "\u001b[1m> Entering new SQL Agent Executor chain...\u001b[0m\n",
      "\u001b[32;1m\u001b[1;3m```sql\n",
      "SELECT\n",
      "  SUM(batsman_runs)\n",
      "FROM deliveries\n",
      "WHERE\n",
      "  batsman = 'Rohit Sharma'\n",
      "LIMIT 100;```\u001b[0m\n",
      "\n",
      "\u001b[1m> Finished chain.\u001b[0m\n"
     ]
    },
    {
     "name": "stderr",
     "output_type": "stream",
     "text": [
      "d:\\BITS Pilani\\Year 4\\Sem 4-2\\LLM\\Project\\cricket-stats-gpt\\src\\agents\\langchain_sql_agent.py:64: UserWarning: pandas only supports SQLAlchemy connectable (engine/connection) or database string URI or sqlite3 DBAPI2 connection. Other DBAPI2 objects are not tested. Please consider using SQLAlchemy.\n",
      "  df = pd.read_sql(sql_cleaned, connect_db())\n"
     ]
    },
    {
     "name": "stdout",
     "output_type": "stream",
     "text": [
      "\n",
      "Observation: \u001b[36;1m\u001b[1;3mFinal Answer:\n",
      "SQL used:\n",
      "SELECT SUM(batsman_runs) FROM deliveries WHERE batsman = 'Rohit Sharma' LIMIT 100;\n",
      "\n",
      "Results:\n",
      "SUM(batsman_runs)\n",
      "             None\u001b[0m\n",
      "Thought:\u001b[32;1m\u001b[1;3mThought:I am unable to get the average runs per match for Rohit Sharma using the available tools. The SQL queries returned None.\n",
      "Final Answer: I am sorry, I am unable to provide the average runs per match for Rohit Sharma using the available tools.\u001b[0m\n",
      "\n",
      "\u001b[1m> Finished chain.\u001b[0m\n",
      "\n",
      "\n",
      "\u001b[1m> Entering new AgentExecutor chain...\u001b[0m\n",
      "\u001b[32;1m\u001b[1;3mI need to find the highest partnership in IPL 2023. I don't have a tool to directly find the highest partnership. I can try to use the SQL fallback tool.\n",
      "Action: sql_fallback\n",
      "Action Input: SELECT MAX(partnership_runs) FROM match_innings_summary WHERE season = 2023\u001b[0m\n",
      "\n",
      "\u001b[1m> Entering new SQL Agent Executor chain...\u001b[0m\n",
      "\u001b[32;1m\u001b[1;3m```sql\n",
      "SELECT\n",
      "  MAX(SUM(batsman_runs + extra_runs))\n",
      "FROM deliveries AS d\n",
      "JOIN matches AS m\n",
      "  ON d.match_id = m.id\n",
      "WHERE\n",
      "  m.season = 2023\n",
      "GROUP BY\n",
      "  d.match_id,\n",
      "  d.inning,\n",
      "  d.batsman,\n",
      "  d.non_striker\n",
      "LIMIT 100\n",
      "```\u001b[0m\n",
      "\n",
      "\u001b[1m> Finished chain.\u001b[0m\n",
      "SQL Execution Error:\n",
      "Execution failed on sql 'SELECT MAX(SUM(batsman_runs + extra_runs)) FROM deliveries AS d JOIN matches AS m ON d.match_id = m.id WHERE m.season = 2023 GROUP BY d.match_id, d.inning, d.batsman, d.non_striker LIMIT 100': (1111, 'Invalid use of group function')\n",
      "\n",
      "Observation: \u001b[36;1m\u001b[1;3mFinal Answer: No results found for your query.\u001b[0m\n",
      "Thought:"
     ]
    },
    {
     "name": "stderr",
     "output_type": "stream",
     "text": [
      "d:\\BITS Pilani\\Year 4\\Sem 4-2\\LLM\\Project\\cricket-stats-gpt\\src\\agents\\langchain_sql_agent.py:64: UserWarning: pandas only supports SQLAlchemy connectable (engine/connection) or database string URI or sqlite3 DBAPI2 connection. Other DBAPI2 objects are not tested. Please consider using SQLAlchemy.\n",
      "  df = pd.read_sql(sql_cleaned, connect_db())\n"
     ]
    },
    {
     "name": "stdout",
     "output_type": "stream",
     "text": [
      "\u001b[32;1m\u001b[1;3mThought: The previous attempt to find the highest partnership failed. I will try a different approach using SQL.\n",
      "Action: sql_fallback\n",
      "Action Input: SELECT player1, player2, SUM(partnership_runs) AS total_partnership FROM match_innings_summary WHERE season = 2023 GROUP BY player1, player2 ORDER BY total_partnership DESC LIMIT 1;\u001b[0m\n",
      "\n",
      "\u001b[1m> Entering new SQL Agent Executor chain...\u001b[0m\n",
      "\u001b[32;1m\u001b[1;3m```sql\n",
      "SELECT\n",
      "  batsman,\n",
      "  non_striker,\n",
      "  SUM(total_runs) AS total_partnership\n",
      "FROM deliveries\n",
      "JOIN matches\n",
      "  ON deliveries.match_id = matches.id\n",
      "WHERE\n",
      "  matches.season = 2023\n",
      "GROUP BY\n",
      "  batsman,\n",
      "  non_striker\n",
      "ORDER BY\n",
      "  total_partnership DESC\n",
      "LIMIT 100;\n",
      "```\u001b[0m\n",
      "\n",
      "\u001b[1m> Finished chain.\u001b[0m\n"
     ]
    },
    {
     "name": "stderr",
     "output_type": "stream",
     "text": [
      "d:\\BITS Pilani\\Year 4\\Sem 4-2\\LLM\\Project\\cricket-stats-gpt\\src\\agents\\langchain_sql_agent.py:64: UserWarning: pandas only supports SQLAlchemy connectable (engine/connection) or database string URI or sqlite3 DBAPI2 connection. Other DBAPI2 objects are not tested. Please consider using SQLAlchemy.\n",
      "  df = pd.read_sql(sql_cleaned, connect_db())\n"
     ]
    },
    {
     "name": "stdout",
     "output_type": "stream",
     "text": [
      "\n",
      "Observation: \u001b[36;1m\u001b[1;3mFinal Answer: No results found for your query.\u001b[0m\n",
      "Thought:\u001b[32;1m\u001b[1;3mI am unable to answer the question with the available tools.\n",
      "Final Answer: I am unable to answer the question with the available tools.\u001b[0m\n",
      "\n",
      "\u001b[1m> Finished chain.\u001b[0m\n",
      "\n",
      "\n",
      "\u001b[1m> Entering new AgentExecutor chain...\u001b[0m\n",
      "\u001b[32;1m\u001b[1;3mI need to find the top 5 bowlers by economy. I don't have a tool to directly get economy rates. I can use the SQL fallback to get this information.\n",
      "Action: sql_fallback\n",
      "Action Input: SELECT player_name, AVG(economy) AS avg_economy FROM bowling_stats GROUP BY player_name ORDER BY avg_economy ASC LIMIT 5;\u001b[0m\n",
      "\n",
      "\u001b[1m> Entering new SQL Agent Executor chain...\u001b[0m\n",
      "\u001b[32;1m\u001b[1;3m```sql\n",
      "-- The database does not have a table named 'bowling_stats'.\n",
      "-- Please provide a valid query based on the available tables: matches and deliveries.\n",
      "```\u001b[0m\n",
      "\n",
      "\u001b[1m> Finished chain.\u001b[0m\n",
      "SQL Execution Error:\n",
      "'NoneType' object is not iterable\n",
      "\n",
      "Observation: \u001b[36;1m\u001b[1;3mFinal Answer: No results found for your query.\u001b[0m\n",
      "Thought:"
     ]
    },
    {
     "name": "stderr",
     "output_type": "stream",
     "text": [
      "d:\\BITS Pilani\\Year 4\\Sem 4-2\\LLM\\Project\\cricket-stats-gpt\\src\\agents\\langchain_sql_agent.py:64: UserWarning: pandas only supports SQLAlchemy connectable (engine/connection) or database string URI or sqlite3 DBAPI2 connection. Other DBAPI2 objects are not tested. Please consider using SQLAlchemy.\n",
      "  df = pd.read_sql(sql_cleaned, connect_db())\n"
     ]
    },
    {
     "name": "stdout",
     "output_type": "stream",
     "text": [
      "\u001b[32;1m\u001b[1;3mThought: The previous query failed. I need to try a different approach. I can't directly get economy rates using the provided tools. I will try to find top wicket takers and then use SQL to get their economy.\n",
      "Action: get_top_wicket_takers\n",
      "Action Input: 2023\u001b[0m"
     ]
    },
    {
     "name": "stderr",
     "output_type": "stream",
     "text": [
      "d:\\BITS Pilani\\Year 4\\Sem 4-2\\LLM\\Project\\cricket-stats-gpt\\src\\analytics\\metrics.py:32: UserWarning: pandas only supports SQLAlchemy connectable (engine/connection) or database string URI or sqlite3 DBAPI2 connection. Other DBAPI2 objects are not tested. Please consider using SQLAlchemy.\n",
      "  return pd.read_sql(sql, connect_db())\n"
     ]
    },
    {
     "name": "stdout",
     "output_type": "stream",
     "text": [
      "\n",
      "Observation: \u001b[38;5;200m\u001b[1;3mFinal Answer:\n",
      "Empty DataFrame\n",
      "Columns: [bowler, wickets]\n",
      "Index: []\u001b[0m\n",
      "Thought:\u001b[32;1m\u001b[1;3mI am unable to answer this question with the available tools. The tools do not have the functionality to directly find the top 5 bowlers by economy. The SQL fallback also failed.\n",
      "Final Answer: I am sorry, I cannot answer this question with the available tools.\u001b[0m\n",
      "\n",
      "\u001b[1m> Finished chain.\u001b[0m\n"
     ]
    },
    {
     "ename": "KeyboardInterrupt",
     "evalue": "",
     "output_type": "error",
     "traceback": [
      "\u001b[1;31m---------------------------------------------------------------------------\u001b[0m",
      "\u001b[1;31mKeyboardInterrupt\u001b[0m                         Traceback (most recent call last)",
      "Cell \u001b[1;32mIn[4], line 58\u001b[0m\n\u001b[0;32m     52\u001b[0m     \u001b[38;5;28;01mexcept\u001b[39;00m \u001b[38;5;167;01mException\u001b[39;00m \u001b[38;5;28;01mas\u001b[39;00m e:\n\u001b[0;32m     53\u001b[0m         results\u001b[38;5;241m.\u001b[39mappend({\n\u001b[0;32m     54\u001b[0m             \u001b[38;5;124m\"\u001b[39m\u001b[38;5;124mnlp\u001b[39m\u001b[38;5;124m\"\u001b[39m: question,\n\u001b[0;32m     55\u001b[0m             \u001b[38;5;124m\"\u001b[39m\u001b[38;5;124msql_result_llm\u001b[39m\u001b[38;5;124m\"\u001b[39m: \u001b[38;5;124m\"\u001b[39m\u001b[38;5;124mERROR\u001b[39m\u001b[38;5;124m\"\u001b[39m,\n\u001b[0;32m     56\u001b[0m             \u001b[38;5;124m\"\u001b[39m\u001b[38;5;124mllm_result\u001b[39m\u001b[38;5;124m\"\u001b[39m: \u001b[38;5;28mstr\u001b[39m(e)\n\u001b[0;32m     57\u001b[0m         })\n\u001b[1;32m---> 58\u001b[0m     \u001b[43mtime\u001b[49m\u001b[38;5;241;43m.\u001b[39;49m\u001b[43msleep\u001b[49m\u001b[43m(\u001b[49m\u001b[38;5;241;43m1\u001b[39;49m\u001b[43m)\u001b[49m\n\u001b[0;32m     60\u001b[0m \u001b[38;5;66;03m# Convert to DataFrame and optionally save\u001b[39;00m\n\u001b[0;32m     61\u001b[0m df \u001b[38;5;241m=\u001b[39m pd\u001b[38;5;241m.\u001b[39mDataFrame(results)\n",
      "\u001b[1;31mKeyboardInterrupt\u001b[0m: "
     ]
    }
   ],
   "source": [
    "import pandas as pd\n",
    "import time\n",
    "from agents.multitool_agent import get_multitool_agent\n",
    "\n",
    "# Initialize LangChain agent\n",
    "agent = get_multitool_agent()\n",
    "\n",
    "# Helper to parse agent response\n",
    "def parse_response(response_str):\n",
    "    tool_name = None\n",
    "    sql_query = None\n",
    "    final_result = None\n",
    "    lines = response_str.splitlines()\n",
    "\n",
    "    for i, line in enumerate(lines):\n",
    "        if \"Action:\" in line:\n",
    "            tool_name = line.split(\"Action:\")[1].strip()\n",
    "        if \"```sql\" in line:\n",
    "            sql_lines = []\n",
    "            for j in range(i + 1, len(lines)):\n",
    "                if lines[j].startswith(\"```\"):\n",
    "                    break\n",
    "                sql_lines.append(lines[j])\n",
    "            sql_query = \"\\n\".join(sql_lines)\n",
    "        if \"Final Answer:\" in line:\n",
    "            final_result = \"\\n\".join(lines[i+1:]).strip()\n",
    "            break\n",
    "\n",
    "    return sql_query or tool_name, final_result\n",
    "\n",
    "# === INPUT: Replace this with the desired batch ===\n",
    "nlp_batch = [\n",
    "     \"Compare V Kohli vs RG Sharma\",\n",
    "    \"Compare MS Dhoni vs S Dhawan\",\n",
    "    \"Compare AB de Villiers vs CH Gayle\",\n",
    "    \"List top 5 run scorers of 2016\",\n",
    "    \"Top 3 run scorers in 2015\",\n",
    "]\n",
    "\n",
    "# Output results\n",
    "results = []\n",
    "\n",
    "for question in nlp_batch:\n",
    "    try:\n",
    "        response = agent.run(question)\n",
    "        tool_or_sql, final = parse_response(response)\n",
    "        results.append({\n",
    "            \"nlp\": question,\n",
    "            \"sql_result_llm\": tool_or_sql,\n",
    "            \"llm_result\": final\n",
    "        })\n",
    "    except Exception as e:\n",
    "        results.append({\n",
    "            \"nlp\": question,\n",
    "            \"sql_result_llm\": \"ERROR\",\n",
    "            \"llm_result\": str(e)\n",
    "        })\n",
    "    time.sleep(1)\n",
    "\n",
    "# Convert to DataFrame and optionally save\n",
    "df = pd.DataFrame(results)\n",
    "print(df)\n",
    "\n",
    "# Optional: save to CSV\n",
    "# df.to_csv(\"batch_results.csv\", index=False)\n"
   ]
  },
  {
   "cell_type": "code",
   "execution_count": 1,
   "id": "a7204ce8",
   "metadata": {},
   "outputs": [
    {
     "name": "stderr",
     "output_type": "stream",
     "text": [
      "c:\\Users\\singh_7l8q9pm\\anaconda3\\lib\\site-packages\\pandas\\core\\arrays\\masked.py:60: UserWarning: Pandas requires version '1.3.6' or newer of 'bottleneck' (version '1.3.5' currently installed).\n",
      "  from pandas.core import (\n"
     ]
    },
    {
     "name": "stdout",
     "output_type": "stream",
     "text": [
      "# Batch 1\n",
      "nlp_batch = [\n",
      "    \"Compare V Kohli vs RG Sharma\",\n",
      "    \"Compare MS Dhoni vs S Dhawan\",\n",
      "    \"Compare AB de Villiers vs CH Gayle\",\n",
      "    \"List top 5 run scorers of 2016\",\n",
      "    \"Top 3 run scorers in 2015\",\n",
      "]\n",
      "\n",
      "# Batch 2\n",
      "nlp_batch = [\n",
      "    \"Show top 10 scorers from 2017 season\",\n",
      "    \"Top 5 wicket takers of 2014\",\n",
      "    \"Top 5 wicket takers of 2011\",\n",
      "    \"Leading wicket taker in 2013\",\n",
      "    \"Average score at Wankhede Stadium\",\n",
      "]\n",
      "\n",
      "# Batch 3\n",
      "nlp_batch = [\n",
      "    \"Average score at Eden Gardens\",\n",
      "    \"Average score at M Chinnaswamy Stadium\",\n",
      "    \"Wins per season for Mumbai Indians\",\n",
      "    \"Wins per season for Chennai Super Kings\",\n",
      "    \"Powerplay runs for Royal Challengers Bangalore in 2016\",\n",
      "]\n",
      "\n",
      "# Batch 4\n",
      "nlp_batch = [\n",
      "    \"Powerplay totals for Delhi Daredevils in 2015\",\n",
      "    \"Win percentage of Mumbai Indians\",\n",
      "    \"Win percentage of Chennai Super Kings\",\n",
      "    \"Match summary for match 1\",\n",
      "    \"Match summary for match 2\",\n",
      "]\n",
      "\n",
      "# Batch 5\n",
      "nlp_batch = [\n",
      "    \"Who has the highest strike rate in 2016?\",\n",
      "    \"Best economy bowler of 2014\",\n",
      "    \"Most sixes by a player in 2015\",\n",
      "    \"Boundary count for AB de Villiers in 2017\",\n",
      "    \"Total runs conceded by JJ Bumrah in 2017\",\n",
      "]\n",
      "\n",
      "# Batch 6\n",
      "nlp_batch = [\n",
      "    \"Average runs per over in powerplay 2016\",\n",
      "    \"Which match had the highest total in 2015?\",\n",
      "    \"Player with most fours in IPL 2014\",\n",
      "    \"Most wickets in death overs 2017\",\n",
      "    \"Total wides bowled by teams in 2016\",\n",
      "]\n",
      "\n",
      "# Batch 7\n",
      "nlp_batch = [\n",
      "    \"Average first-innings total at Eden Gardens 2016\",\n",
      "    \"Team with highest win_by_runs margin overall\",\n",
      "    \"Number of matches tied in IPL history\",\n",
      "    \"Players dismissed hit wicket since 2010\",\n",
      "    \"Average economy of YS Chahal in 2016\",\n",
      "]\n",
      "\n",
      "# Batch 8\n",
      "nlp_batch = [\n",
      "    \"Maximum partnership runs in 2013\",\n",
      "    \"How many maidens did B Kumar bowl in 2014?\",\n",
      "    \"Total dot balls bowled by Sunrisers Hyderabad 2016\",\n",
      "    \"Average powerplay wickets per match in 2015\",\n",
      "    \"How many no-balls in final overs 2015\",\n",
      "]\n",
      "\n",
      "# Batch 9\n",
      "nlp_batch = [\n",
      "    \"Highest individual score at Wankhede\",\n",
      "    \"Most catches by a fielder in 2017\",\n",
      "    \"Average second-innings chase score 2016\",\n",
      "    \"Team with most super-overs\",\n",
      "    \"Percentage of matches decided by wickets (not runs)\",\n",
      "]\n",
      "\n",
      "# Batch 10\n",
      "nlp_batch = [\n",
      "    \"Total runs V Kohli scored off spin in 2015\",\n",
      "    \"Fastest fifty in 2016 season\",\n",
      "    \"Most runs in boundaries by a team 2013\",\n",
      "    \"Average overs bowled per match by Rashid Khan 2017\",\n",
      "    \"Matches with DL applied\",\n",
      "]\n",
      "\n",
      "# Batch 11\n",
      "nlp_batch = [\n",
      "    \"Longest winning streak for any team\",\n",
      "    \"Teams batting first win percentage 2015\",\n",
      "    \"Number of hat-tricks in IPL\",\n",
      "    \"Total extras conceded by Kolkata Knight Riders 2016\",\n",
      "    \"Highest powerplay total ever\",\n",
      "]\n",
      "\n",
      "# Batch 12\n",
      "nlp_batch = [\n",
      "    \"Most dot balls by any bowler 2016\",\n",
      "    \"Average chase required rate 2017\",\n",
      "    \"How many wins did Mumbai Indians have in 2015 and which teams did they beat?\",\n",
      "    \"Highest partnership for Royal Challengers Bangalore in 2016 - show batsmen pair and runs and match id\",\n",
      "    \"Average first-innings powerplay score per venue in 2014 - list top 3 venues\",\n",
      "]\n",
      "\n",
      "# Batch 13\n",
      "nlp_batch = [\n",
      "    \"Which bowler had the best economy in death overs (17-20) in 2013 (min 24 balls)?\",\n",
      "    \"How many super-over matches happened each season from 2008 to 2017?\",\n",
      "    \"Which team had the highest boundary percentage in 2012?\",\n",
      "    \"Which match in 2011 saw the most boundaries (4s & 6s) and how many?\",\n",
      "    \"Venue with highest average second-innings chase score when target > 180 (2008-2017)\",\n",
      "]\n",
      "\n",
      "# Batch 14\n",
      "nlp_batch = [\n",
      "    \"Fielder with most catches between 2010 and 2015\",\n",
      "    \"Dot-ball percentage for Sunrisers Hyderabad in powerplay overs in 2017\",\n",
      "]\n",
      "\n"
     ]
    }
   ],
   "source": [
    "import pandas as pd\n",
    "\n",
    "# Load the file\n",
    "df = pd.read_csv(\"../data/try4_results.csv\")  # Adjust path if needed\n",
    "\n",
    "# Extract the NLP prompts\n",
    "nlp_list = df[\"nlp\"].dropna().tolist()\n",
    "\n",
    "# Split into batches of 5\n",
    "nlp_batches = [nlp_list[i:i+5] for i in range(0, len(nlp_list), 5)]\n",
    "\n",
    "# Generate Python array initializations\n",
    "for i, batch in enumerate(nlp_batches):\n",
    "    print(f\"# Batch {i+1}\")\n",
    "    print(\"nlp_batch = [\")\n",
    "    for prompt in batch:\n",
    "        print(f'    \"{prompt}\",')\n",
    "    print(\"]\\n\")\n"
   ]
  }
 ],
 "metadata": {
  "kernelspec": {
   "display_name": "base",
   "language": "python",
   "name": "python3"
  },
  "language_info": {
   "codemirror_mode": {
    "name": "ipython",
    "version": 3
   },
   "file_extension": ".py",
   "mimetype": "text/x-python",
   "name": "python",
   "nbconvert_exporter": "python",
   "pygments_lexer": "ipython3",
   "version": "3.10.9"
  }
 },
 "nbformat": 4,
 "nbformat_minor": 5
}
